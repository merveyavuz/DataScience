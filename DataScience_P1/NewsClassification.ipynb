{
 "cells": [
  {
   "cell_type": "code",
   "execution_count": 1,
   "metadata": {},
   "outputs": [
    {
     "name": "stdout",
     "output_type": "stream",
     "text": [
      "Requirement already satisfied: TurkishStemmer in c:\\users\\myavu\\appdata\\local\\conda\\conda\\envs\\merveenv\\lib\\site-packages (1.3)\n",
      "Requirement already satisfied: gensim in c:\\users\\myavu\\appdata\\local\\conda\\conda\\envs\\merveenv\\lib\\site-packages (3.8.0)\n",
      "Requirement already satisfied: unicode_tr in c:\\users\\myavu\\appdata\\local\\conda\\conda\\envs\\merveenv\\lib\\site-packages (0.6.1)\n",
      "Requirement already satisfied: six>=1.5.0 in c:\\users\\myavu\\appdata\\local\\conda\\conda\\envs\\merveenv\\lib\\site-packages (from gensim) (1.13.0)\n",
      "Requirement already satisfied: numpy>=1.11.3 in c:\\users\\myavu\\appdata\\local\\conda\\conda\\envs\\merveenv\\lib\\site-packages (from gensim) (1.17.4)\n",
      "Requirement already satisfied: smart-open>=1.7.0 in c:\\users\\myavu\\appdata\\local\\conda\\conda\\envs\\merveenv\\lib\\site-packages (from gensim) (1.9.0)\n",
      "Requirement already satisfied: scipy>=0.18.1 in c:\\users\\myavu\\appdata\\local\\conda\\conda\\envs\\merveenv\\lib\\site-packages (from gensim) (1.3.1)\n",
      "Requirement already satisfied: boto>=2.32 in c:\\users\\myavu\\appdata\\local\\conda\\conda\\envs\\merveenv\\lib\\site-packages (from smart-open>=1.7.0->gensim) (2.49.0)\n",
      "Requirement already satisfied: bz2file in c:\\users\\myavu\\appdata\\local\\conda\\conda\\envs\\merveenv\\lib\\site-packages (from smart-open>=1.7.0->gensim) (0.98)\n",
      "Requirement already satisfied: requests in c:\\users\\myavu\\appdata\\local\\conda\\conda\\envs\\merveenv\\lib\\site-packages (from smart-open>=1.7.0->gensim) (2.22.0)\n",
      "Requirement already satisfied: boto3 in c:\\users\\myavu\\appdata\\local\\conda\\conda\\envs\\merveenv\\lib\\site-packages (from smart-open>=1.7.0->gensim) (1.9.66)\n",
      "Requirement already satisfied: chardet<3.1.0,>=3.0.2 in c:\\users\\myavu\\appdata\\local\\conda\\conda\\envs\\merveenv\\lib\\site-packages (from requests->smart-open>=1.7.0->gensim) (3.0.4)\n",
      "Requirement already satisfied: idna<2.9,>=2.5 in c:\\users\\myavu\\appdata\\local\\conda\\conda\\envs\\merveenv\\lib\\site-packages (from requests->smart-open>=1.7.0->gensim) (2.8)\n",
      "Requirement already satisfied: urllib3!=1.25.0,!=1.25.1,<1.26,>=1.21.1 in c:\\users\\myavu\\appdata\\local\\conda\\conda\\envs\\merveenv\\lib\\site-packages (from requests->smart-open>=1.7.0->gensim) (1.24.2)\n",
      "Requirement already satisfied: certifi>=2017.4.17 in c:\\users\\myavu\\appdata\\local\\conda\\conda\\envs\\merveenv\\lib\\site-packages (from requests->smart-open>=1.7.0->gensim) (2019.11.28)\n",
      "Requirement already satisfied: botocore<1.13.0,>=1.12.66 in c:\\users\\myavu\\appdata\\local\\conda\\conda\\envs\\merveenv\\lib\\site-packages (from boto3->smart-open>=1.7.0->gensim) (1.12.189)\n",
      "Requirement already satisfied: jmespath<1.0.0,>=0.7.1 in c:\\users\\myavu\\appdata\\local\\conda\\conda\\envs\\merveenv\\lib\\site-packages (from boto3->smart-open>=1.7.0->gensim) (0.9.4)\n",
      "Requirement already satisfied: s3transfer<0.2.0,>=0.1.10 in c:\\users\\myavu\\appdata\\local\\conda\\conda\\envs\\merveenv\\lib\\site-packages (from boto3->smart-open>=1.7.0->gensim) (0.1.13)\n",
      "Requirement already satisfied: python-dateutil<3.0.0,>=2.1 in c:\\users\\myavu\\appdata\\local\\conda\\conda\\envs\\merveenv\\lib\\site-packages (from botocore<1.13.0,>=1.12.66->boto3->smart-open>=1.7.0->gensim) (2.8.1)\n",
      "Requirement already satisfied: docutils>=0.10 in c:\\users\\myavu\\appdata\\local\\conda\\conda\\envs\\merveenv\\lib\\site-packages (from botocore<1.13.0,>=1.12.66->boto3->smart-open>=1.7.0->gensim) (0.15.2)\n"
     ]
    }
   ],
   "source": [
    "!pip install TurkishStemmer gensim unicode_tr"
   ]
  },
  {
   "cell_type": "code",
   "execution_count": 2,
   "metadata": {},
   "outputs": [],
   "source": [
    "\n",
    "import numpy as np\n",
    "import pandas as pd\n",
    "import re\n",
    "import nltk\n",
    "import string\n",
    "from nltk.corpus import stopwords\n",
    "from TurkishStemmer import TurkishStemmer\n",
    "from unicode_tr import unicode_tr\n",
    "\n",
    "from sklearn.preprocessing import LabelEncoder\n",
    "from sklearn.model_selection import train_test_split, cross_val_score\n",
    "from sklearn.feature_extraction.text import CountVectorizer\n",
    "from sklearn.feature_extraction.text import TfidfTransformer\n",
    "from sklearn.linear_model import LogisticRegression\n",
    "from sklearn.pipeline import Pipeline\n",
    "from sklearn.metrics import confusion_matrix, classification_report, accuracy_score, roc_curve, auc, f1_score, roc_auc_score\n",
    "\n",
    "import warnings; warnings.simplefilter('ignore')\n",
    "import matplotlib.pyplot as plt\n",
    "%matplotlib inline\n",
    "import seaborn as sns"
   ]
  },
  {
   "cell_type": "markdown",
   "metadata": {},
   "source": [
    "#### WordNet, 200'den fazla dilde kelimeler arasındaki anlamsal ilişkilerin sözcüksel bir veritabanıdır. WordNet, kelimeleri eşanlamlılar, hiponimler ve meronimleri içeren anlamsal ilişkilere bağlar. \n",
    "#### Stopwords etkisiz kelimeler, doğal data dilinin işlenmeden önce veya sonra filtrelenmiş kelimeleridir."
   ]
  },
  {
   "cell_type": "code",
   "execution_count": 3,
   "metadata": {},
   "outputs": [
    {
     "name": "stderr",
     "output_type": "stream",
     "text": [
      "[nltk_data] Downloading package stopwords to\n",
      "[nltk_data]     C:\\Users\\myavu\\AppData\\Roaming\\nltk_data...\n",
      "[nltk_data]   Package stopwords is already up-to-date!\n",
      "[nltk_data] Downloading package wordnet to\n",
      "[nltk_data]     C:\\Users\\myavu\\AppData\\Roaming\\nltk_data...\n",
      "[nltk_data]   Package wordnet is already up-to-date!\n"
     ]
    }
   ],
   "source": [
    "download_list = [\"stopwords\",\"wordnet\"]\n",
    "for download in download_list:\n",
    "    nltk.download(download)"
   ]
  },
  {
   "cell_type": "code",
   "execution_count": 5,
   "metadata": {},
   "outputs": [
    {
     "data": {
      "text/html": [
       "<div>\n",
       "<style scoped>\n",
       "    .dataframe tbody tr th:only-of-type {\n",
       "        vertical-align: middle;\n",
       "    }\n",
       "\n",
       "    .dataframe tbody tr th {\n",
       "        vertical-align: top;\n",
       "    }\n",
       "\n",
       "    .dataframe thead th {\n",
       "        text-align: right;\n",
       "    }\n",
       "</style>\n",
       "<table border=\"1\" class=\"dataframe\">\n",
       "  <thead>\n",
       "    <tr style=\"text-align: right;\">\n",
       "      <th></th>\n",
       "      <th>id</th>\n",
       "      <th>Title</th>\n",
       "      <th>Categories</th>\n",
       "      <th>Status</th>\n",
       "      <th>Date</th>\n",
       "      <th>Slug</th>\n",
       "    </tr>\n",
       "  </thead>\n",
       "  <tbody>\n",
       "    <tr>\n",
       "      <th>0</th>\n",
       "      <td>18</td>\n",
       "      <td>Küba Milli Takımı Oyuncularının, Bir Kadına Te...</td>\n",
       "      <td>SICAK</td>\n",
       "      <td>publish</td>\n",
       "      <td>2016-07-04</td>\n",
       "      <td>kuba-milli-takimi-oyuncularinin-bir-kadina-tec...</td>\n",
       "    </tr>\n",
       "    <tr>\n",
       "      <th>1</th>\n",
       "      <td>21</td>\n",
       "      <td>Daily Telegraph: 'Suriyelilere Vatandaşlık Tek...</td>\n",
       "      <td>SICAK</td>\n",
       "      <td>publish</td>\n",
       "      <td>2016-07-04</td>\n",
       "      <td>daily-telegraph-suriyelilere-vatandaslik-tekli...</td>\n",
       "    </tr>\n",
       "    <tr>\n",
       "      <th>2</th>\n",
       "      <td>24</td>\n",
       "      <td>AYM'den 'Yüksek Sesli Ezan' Şikayetine Ret</td>\n",
       "      <td>SICAK</td>\n",
       "      <td>publish</td>\n",
       "      <td>2016-07-04</td>\n",
       "      <td>aymden-yuksek-sesli-ezan-sikayetine-ret</td>\n",
       "    </tr>\n",
       "    <tr>\n",
       "      <th>3</th>\n",
       "      <td>31</td>\n",
       "      <td>İstanbul'daki Terör Saldırısı, Eto'o'nun Düzen...</td>\n",
       "      <td>SICAK</td>\n",
       "      <td>publish</td>\n",
       "      <td>2016-07-04</td>\n",
       "      <td>istanbuldaki-teror-saldirisi-etoonun-duzenleye...</td>\n",
       "    </tr>\n",
       "    <tr>\n",
       "      <th>4</th>\n",
       "      <td>34</td>\n",
       "      <td>Türkiye, Rusya'daki En Popüler Destinasyon Lid...</td>\n",
       "      <td>SICAK</td>\n",
       "      <td>publish</td>\n",
       "      <td>2016-07-04</td>\n",
       "      <td>turkiye-rusyadaki-en-populer-destinasyon-lider...</td>\n",
       "    </tr>\n",
       "  </tbody>\n",
       "</table>\n",
       "</div>"
      ],
      "text/plain": [
       "   id                                              Title Categories   Status  \\\n",
       "0  18  Küba Milli Takımı Oyuncularının, Bir Kadına Te...      SICAK  publish   \n",
       "1  21  Daily Telegraph: 'Suriyelilere Vatandaşlık Tek...      SICAK  publish   \n",
       "2  24         AYM'den 'Yüksek Sesli Ezan' Şikayetine Ret      SICAK  publish   \n",
       "3  31  İstanbul'daki Terör Saldırısı, Eto'o'nun Düzen...      SICAK  publish   \n",
       "4  34  Türkiye, Rusya'daki En Popüler Destinasyon Lid...      SICAK  publish   \n",
       "\n",
       "         Date                                               Slug  \n",
       "0  2016-07-04  kuba-milli-takimi-oyuncularinin-bir-kadina-tec...  \n",
       "1  2016-07-04  daily-telegraph-suriyelilere-vatandaslik-tekli...  \n",
       "2  2016-07-04            aymden-yuksek-sesli-ezan-sikayetine-ret  \n",
       "3  2016-07-04  istanbuldaki-teror-saldirisi-etoonun-duzenleye...  \n",
       "4  2016-07-04  turkiye-rusyadaki-en-populer-destinasyon-lider...  "
      ]
     },
     "execution_count": 5,
     "metadata": {},
     "output_type": "execute_result"
    }
   ],
   "source": [
    "data = pd.read_csv(\"./classification_clean.csv\")\n",
    "data.head()"
   ]
  },
  {
   "cell_type": "code",
   "execution_count": 7,
   "metadata": {},
   "outputs": [
    {
     "data": {
      "text/plain": [
       "['SICAK',\n",
       " 'GÜNDEM',\n",
       " 'DÜNYA',\n",
       " 'SPOR',\n",
       " 'GÜNDEM|SICAK',\n",
       " 'DÜNYA|SICAK',\n",
       " 'SANAT',\n",
       " 'DÜNYA|GÜNDEM',\n",
       " 'Teknoloji',\n",
       " 'Video',\n",
       " 'DÜNYA|SPOR',\n",
       " 'DÜNYA|Teknoloji',\n",
       " 'SICAK|SPOR',\n",
       " 'GÜNDEM|SPOR',\n",
       " 'DÜNYA|SANAT',\n",
       " 'SANAT|Video',\n",
       " 'DÜNYA|Video',\n",
       " 'GÜNDEM|SANAT',\n",
       " 'SPOR|Video',\n",
       " 'GÜNDEM|Teknoloji',\n",
       " 'DÜNYA|GÜNDEM|SPOR',\n",
       " 'GÜNDEM|Video',\n",
       " 'DÜNYA|GÜNDEM|SICAK',\n",
       " 'News',\n",
       " 'DÜNYA|Teknoloji|Video',\n",
       " 'SICAK|Teknoloji',\n",
       " 'SICAK|Video',\n",
       " 'SANAT|SICAK',\n",
       " 'SPOR|Teknoloji',\n",
       " 'DÜNYA|GÜNDEM|SANAT']"
      ]
     },
     "execution_count": 7,
     "metadata": {},
     "output_type": "execute_result"
    }
   ],
   "source": [
    "list(data['Categories'].value_counts().index)"
   ]
  },
  {
   "cell_type": "markdown",
   "metadata": {},
   "source": [
    "#### Tekrarlı kategoriler yer aldığından dolayı seçili kategoriler filtrelenir"
   ]
  },
  {
   "cell_type": "code",
   "execution_count": 8,
   "metadata": {},
   "outputs": [
    {
     "data": {
      "text/html": [
       "<div>\n",
       "<style scoped>\n",
       "    .dataframe tbody tr th:only-of-type {\n",
       "        vertical-align: middle;\n",
       "    }\n",
       "\n",
       "    .dataframe tbody tr th {\n",
       "        vertical-align: top;\n",
       "    }\n",
       "\n",
       "    .dataframe thead th {\n",
       "        text-align: right;\n",
       "    }\n",
       "</style>\n",
       "<table border=\"1\" class=\"dataframe\">\n",
       "  <thead>\n",
       "    <tr style=\"text-align: right;\">\n",
       "      <th></th>\n",
       "      <th>Title</th>\n",
       "      <th>Categories</th>\n",
       "    </tr>\n",
       "  </thead>\n",
       "  <tbody>\n",
       "    <tr>\n",
       "      <th>12006</th>\n",
       "      <td>58 Saniyede Katar Meselesi? Katar krizi nedir?...</td>\n",
       "      <td>DÜNYA</td>\n",
       "    </tr>\n",
       "    <tr>\n",
       "      <th>12496</th>\n",
       "      <td>58 Saniyede Türkiye - Almanya Gerginliği</td>\n",
       "      <td>DÜNYA</td>\n",
       "    </tr>\n",
       "    <tr>\n",
       "      <th>12877</th>\n",
       "      <td>Adriana Lima, Bomba Aşkla İlgili İlk Kez Konuş...</td>\n",
       "      <td>DÜNYA</td>\n",
       "    </tr>\n",
       "    <tr>\n",
       "      <th>12878</th>\n",
       "      <td>Galatasaraylı Taraftarlar Patladı: İstifa Edin</td>\n",
       "      <td>SPOR</td>\n",
       "    </tr>\n",
       "    <tr>\n",
       "      <th>12880</th>\n",
       "      <td>Galatasaray'dan Ayrılan Sabri, Neredeyse Bedav...</td>\n",
       "      <td>SPOR</td>\n",
       "    </tr>\n",
       "  </tbody>\n",
       "</table>\n",
       "</div>"
      ],
      "text/plain": [
       "                                                   Title Categories\n",
       "12006  58 Saniyede Katar Meselesi? Katar krizi nedir?...      DÜNYA\n",
       "12496           58 Saniyede Türkiye - Almanya Gerginliği      DÜNYA\n",
       "12877  Adriana Lima, Bomba Aşkla İlgili İlk Kez Konuş...      DÜNYA\n",
       "12878     Galatasaraylı Taraftarlar Patladı: İstifa Edin       SPOR\n",
       "12880  Galatasaray'dan Ayrılan Sabri, Neredeyse Bedav...       SPOR"
      ]
     },
     "execution_count": 8,
     "metadata": {},
     "output_type": "execute_result"
    }
   ],
   "source": [
    "main_categories = ['DÜNYA', 'SPOR','SANAT','Teknoloji']\n",
    "filter = data[\"Categories\"].isin(main_categories)\n",
    "data = data[filter]\n",
    "new_data = data[['Title', 'Categories']]\n",
    "new_data.head()"
   ]
  },
  {
   "cell_type": "code",
   "execution_count": 9,
   "metadata": {},
   "outputs": [
    {
     "name": "stdout",
     "output_type": "stream",
     "text": [
      "<class 'pandas.core.frame.DataFrame'>\n",
      "Int64Index: 11622 entries, 12006 to 43762\n",
      "Data columns (total 2 columns):\n",
      "Title         11622 non-null object\n",
      "Categories    11622 non-null object\n",
      "dtypes: object(2)\n",
      "memory usage: 272.4+ KB\n"
     ]
    }
   ],
   "source": [
    "new_data.info()"
   ]
  },
  {
   "cell_type": "code",
   "execution_count": 10,
   "metadata": {},
   "outputs": [
    {
     "data": {
      "image/png": "[encoded data removed]",
      "text/plain": [
       "<Figure size 1440x360 with 1 Axes>"
      ]
     },
     "metadata": {
      "needs_background": "light"
     },
     "output_type": "display_data"
    }
   ],
   "source": [
    "figure, ax = plt.subplots(1, 1, figsize = (20, 5))\n",
    "\n",
    "ax = sns.countplot(new_data['Categories'])\n",
    "ax.set_title(\"Category Counts\")\n",
    "ax.set_xlabel(\"Category\")\n",
    "# Manipulate the labels to make them more readable\n",
    "ax.set_xticklabels([x for x in ax.get_xticklabels()], rotation=80)\n",
    "plt.show()"
   ]
  },
  {
   "cell_type": "markdown",
   "metadata": {},
   "source": [
    "#### Metin küçük harflere dönüştürülür, stopwords çıkarılır, kelimeler köklerine ayrılır."
   ]
  },
  {
   "cell_type": "code",
   "execution_count": 12,
   "metadata": {},
   "outputs": [],
   "source": [
    "def process_content(doc):\n",
    "    stemmer = TurkishStemmer()\n",
    "    \n",
    "    doc = unicode_tr(doc).lower()\n",
    "    filter_punch = str.maketrans('', '', string.punctuation)\n",
    "    stripped = doc.translate(filter_punch)\n",
    "\n",
    "    clean_text = []\n",
    "    for i in stripped.split():\n",
    "        if i not in stopwords.words('turkish'):\n",
    "            clean_text.append(stemmer.stem(i))\n",
    "\n",
    "    return ' '.join(clean_text)"
   ]
  },
  {
   "cell_type": "markdown",
   "metadata": {},
   "source": [
    "#### İşlenmiş hali kolon olarak eklenir"
   ]
  },
  {
   "cell_type": "code",
   "execution_count": 13,
   "metadata": {},
   "outputs": [],
   "source": [
    "new_data['processed_title'] = new_data['Title'].apply(process_content)"
   ]
  },
  {
   "cell_type": "code",
   "execution_count": 14,
   "metadata": {},
   "outputs": [
    {
     "data": {
      "text/html": [
       "<div>\n",
       "<style scoped>\n",
       "    .dataframe tbody tr th:only-of-type {\n",
       "        vertical-align: middle;\n",
       "    }\n",
       "\n",
       "    .dataframe tbody tr th {\n",
       "        vertical-align: top;\n",
       "    }\n",
       "\n",
       "    .dataframe thead th {\n",
       "        text-align: right;\n",
       "    }\n",
       "</style>\n",
       "<table border=\"1\" class=\"dataframe\">\n",
       "  <thead>\n",
       "    <tr style=\"text-align: right;\">\n",
       "      <th></th>\n",
       "      <th>Title</th>\n",
       "      <th>Categories</th>\n",
       "      <th>processed_title</th>\n",
       "    </tr>\n",
       "  </thead>\n",
       "  <tbody>\n",
       "    <tr>\n",
       "      <th>12006</th>\n",
       "      <td>58 Saniyede Katar Meselesi? Katar krizi nedir?...</td>\n",
       "      <td>DÜNYA</td>\n",
       "      <td>58 saniye katar mesele katar kriz ne video</td>\n",
       "    </tr>\n",
       "    <tr>\n",
       "      <th>12496</th>\n",
       "      <td>58 Saniyede Türkiye - Almanya Gerginliği</td>\n",
       "      <td>DÜNYA</td>\n",
       "      <td>58 saniye türki almanya gerginlik</td>\n",
       "    </tr>\n",
       "    <tr>\n",
       "      <th>12877</th>\n",
       "      <td>Adriana Lima, Bomba Aşkla İlgili İlk Kez Konuş...</td>\n",
       "      <td>DÜNYA</td>\n",
       "      <td>adrian lima bomp aşkl ilgi ilk konuş 35 yıl me...</td>\n",
       "    </tr>\n",
       "    <tr>\n",
       "      <th>12878</th>\n",
       "      <td>Galatasaraylı Taraftarlar Patladı: İstifa Edin</td>\n",
       "      <td>SPOR</td>\n",
       "      <td>galatasaray taraftar patl istifa et</td>\n",
       "    </tr>\n",
       "    <tr>\n",
       "      <th>12880</th>\n",
       "      <td>Galatasaray'dan Ayrılan Sabri, Neredeyse Bedav...</td>\n",
       "      <td>SPOR</td>\n",
       "      <td>galatasaray ayrılan sabri nere bedava kayseris...</td>\n",
       "    </tr>\n",
       "  </tbody>\n",
       "</table>\n",
       "</div>"
      ],
      "text/plain": [
       "                                                   Title Categories  \\\n",
       "12006  58 Saniyede Katar Meselesi? Katar krizi nedir?...      DÜNYA   \n",
       "12496           58 Saniyede Türkiye - Almanya Gerginliği      DÜNYA   \n",
       "12877  Adriana Lima, Bomba Aşkla İlgili İlk Kez Konuş...      DÜNYA   \n",
       "12878     Galatasaraylı Taraftarlar Patladı: İstifa Edin       SPOR   \n",
       "12880  Galatasaray'dan Ayrılan Sabri, Neredeyse Bedav...       SPOR   \n",
       "\n",
       "                                         processed_title  \n",
       "12006         58 saniye katar mesele katar kriz ne video  \n",
       "12496                  58 saniye türki almanya gerginlik  \n",
       "12877  adrian lima bomp aşkl ilgi ilk konuş 35 yıl me...  \n",
       "12878                galatasaray taraftar patl istifa et  \n",
       "12880  galatasaray ayrılan sabri nere bedava kayseris...  "
      ]
     },
     "execution_count": 14,
     "metadata": {},
     "output_type": "execute_result"
    }
   ],
   "source": [
    "new_data.head()"
   ]
  },
  {
   "cell_type": "code",
   "execution_count": 15,
   "metadata": {},
   "outputs": [
    {
     "name": "stdout",
     "output_type": "stream",
     "text": [
      "Number of news 11622\n"
     ]
    }
   ],
   "source": [
    "categories = new_data['Categories']\n",
    "titles = new_data['processed_title']\n",
    "N = len(titles)\n",
    "print('Number of news',N)"
   ]
  },
  {
   "cell_type": "code",
   "execution_count": 16,
   "metadata": {},
   "outputs": [
    {
     "name": "stdout",
     "output_type": "stream",
     "text": [
      "possible categories ['Teknoloji', 'SANAT', 'DÜNYA', 'SPOR']\n"
     ]
    }
   ],
   "source": [
    "labels = list(set(categories))\n",
    "n_classes = len(labels)\n",
    "print('possible categories',labels)"
   ]
  },
  {
   "cell_type": "code",
   "execution_count": 18,
   "metadata": {},
   "outputs": [
    {
     "name": "stdout",
     "output_type": "stream",
     "text": [
      "number of  Teknoloji  news 144\n",
      "number of  SANAT  news 285\n",
      "number of  DÜNYA  news 9226\n",
      "number of  SPOR  news 1967\n"
     ]
    }
   ],
   "source": [
    "for l in labels:\n",
    "    print('number of ',l,' news',len(new_data.loc[new_data['Categories'] == l]))"
   ]
  },
  {
   "cell_type": "markdown",
   "metadata": {},
   "source": [
    "#### Train ve test verileri ayırılarak model oluşturulur"
   ]
  },
  {
   "cell_type": "code",
   "execution_count": 19,
   "metadata": {},
   "outputs": [],
   "source": [
    "X_train, X_test, y_train, y_test = train_test_split(new_data['processed_title'],new_data['Categories'],test_size=0.2,random_state=57)"
   ]
  },
  {
   "cell_type": "code",
   "execution_count": 20,
   "metadata": {},
   "outputs": [],
   "source": [
    "model = Pipeline([('vect', CountVectorizer()),\n",
    "                     ('tfidf', TfidfTransformer()),\n",
    "                     ('clf', LogisticRegression()),\n",
    "                     ])"
   ]
  },
  {
   "cell_type": "code",
   "execution_count": 21,
   "metadata": {},
   "outputs": [],
   "source": [
    "text_clf = model.fit(X_train, y_train)"
   ]
  },
  {
   "cell_type": "code",
   "execution_count": 22,
   "metadata": {},
   "outputs": [],
   "source": [
    "predicted = model.predict(X_test)"
   ]
  },
  {
   "cell_type": "code",
   "execution_count": 23,
   "metadata": {},
   "outputs": [
    {
     "data": {
      "text/plain": [
       "array([[1835,    2,    5,    0],\n",
       "       [  53,    3,    0,    0],\n",
       "       [ 136,    0,  263,    0],\n",
       "       [  28,    0,    0,    0]], dtype=int64)"
      ]
     },
     "execution_count": 23,
     "metadata": {},
     "output_type": "execute_result"
    }
   ],
   "source": [
    "confusion_matrix(y_test,predicted)"
   ]
  },
  {
   "cell_type": "code",
   "execution_count": 24,
   "metadata": {},
   "outputs": [
    {
     "name": "stdout",
     "output_type": "stream",
     "text": [
      "accuracy_score 0.9036559139784947\n",
      "Reporting...\n"
     ]
    }
   ],
   "source": [
    "print('accuracy_score',accuracy_score(y_test,predicted))\n",
    "print('Reporting...')"
   ]
  },
  {
   "cell_type": "code",
   "execution_count": 25,
   "metadata": {},
   "outputs": [
    {
     "name": "stdout",
     "output_type": "stream",
     "text": [
      "              precision    recall  f1-score   support\n",
      "\n",
      "   Teknoloji       0.89      1.00      0.94      1842\n",
      "       SANAT       0.60      0.05      0.10        56\n",
      "       DÜNYA       0.98      0.66      0.79       399\n",
      "        SPOR       0.00      0.00      0.00        28\n",
      "\n",
      "    accuracy                           0.90      2325\n",
      "   macro avg       0.62      0.43      0.46      2325\n",
      "weighted avg       0.89      0.90      0.88      2325\n",
      "\n"
     ]
    }
   ],
   "source": [
    "print(classification_report(y_test, predicted, target_names=labels))"
   ]
  },
  {
   "cell_type": "code",
   "execution_count": 26,
   "metadata": {},
   "outputs": [
    {
     "data": {
      "text/plain": [
       "array([0.89199355, 0.90107527, 0.89892473, 0.89940828, 0.90091546])"
      ]
     },
     "execution_count": 26,
     "metadata": {},
     "output_type": "execute_result"
    }
   ],
   "source": [
    "cross_val_score(model, X_train, y_train, cv=5)"
   ]
  },
  {
   "cell_type": "code",
   "execution_count": 27,
   "metadata": {},
   "outputs": [
    {
     "data": {
      "text/plain": [
       "array([0.85867238, 0.86051502, 0.86236559, 0.84267241, 0.85529158])"
      ]
     },
     "execution_count": 27,
     "metadata": {},
     "output_type": "execute_result"
    }
   ],
   "source": [
    "cross_val_score(model, X_test, y_test, cv=5)"
   ]
  },
  {
   "cell_type": "code",
   "execution_count": 28,
   "metadata": {},
   "outputs": [],
   "source": [
    "def predict_title(model, new_data):\n",
    "    test_data = pd.DataFrame(new_data, columns=['Title'])\n",
    "    test_data['processed_title'] = test_data['Title'].apply(process_content)\n",
    "    \n",
    "    X_test = test_data['processed_title']\n",
    "    predictions = model.predict(X_test)\n",
    "    \n",
    "    return predictions"
   ]
  },
  {
   "cell_type": "code",
   "execution_count": 29,
   "metadata": {},
   "outputs": [
    {
     "data": {
      "text/plain": [
       "array(['SPOR'], dtype=object)"
      ]
     },
     "execution_count": 29,
     "metadata": {},
     "output_type": "execute_result"
    }
   ],
   "source": [
    "t1 = ['Fenerbahçe, Neustadter Transferini Borsaya Bildirdi']\n",
    "news_title = pd.DataFrame(t1, columns=['Title'])\n",
    "predict_title(model, t1)"
   ]
  },
  {
   "cell_type": "code",
   "execution_count": null,
   "metadata": {},
   "outputs": [],
   "source": []
  }
 ],
 "metadata": {
  "kernelspec": {
   "display_name": "Python 3",
   "language": "python",
   "name": "python3"
  },
  "language_info": {
   "codemirror_mode": {
    "name": "ipython",
    "version": 3
   },
   "file_extension": ".py",
   "mimetype": "text/x-python",
   "name": "python",
   "nbconvert_exporter": "python",
   "pygments_lexer": "ipython3",
   "version": "3.6.9"
  }
 },
 "nbformat": 4,
 "nbformat_minor": 2
}
